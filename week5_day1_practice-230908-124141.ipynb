{
  "cells": [
    {
      "cell_type": "markdown",
      "metadata": {},
      "source": [
        "# A. Set up Git and GitHub\n",
        "\n",
        "- Install Git\n",
        "- Create a GitHub account\n",
        "- Create a new repository on GitHub\n"
      ]
    },
    {
      "cell_type": "markdown",
      "metadata": {},
      "source": [
        "# B. Create a Virtual Environment in Python locally"
      ]
    },
    {
      "cell_type": "markdown",
      "metadata": {},
      "source": [
        "# C. Install Pandas, Sklearn and Jupyter in the Virtual Environment"
      ]
    },
    {
      "cell_type": "markdown",
      "metadata": {},
      "source": [
        "# D. Start putting your Git skills to use"
      ]
    },
    {
      "cell_type": "markdown",
      "metadata": {},
      "source": [
        "# E. Undergo the following Regression exercise"
      ]
    },
    {
      "cell_type": "markdown",
      "metadata": {
        "id": "MR5zkwPvwyjS"
      },
      "source": [
        "## 1. Basic data exploration"
      ]
    },
    {
      "cell_type": "markdown",
      "metadata": {
        "id": "I70-sr6Px3Wd"
      },
      "source": [
        "Given the dataset below (df), perform the following:"
      ]
    },
    {
      "cell_type": "code",
      "execution_count": 8,
      "metadata": {
        "id": "lZkdhrCcwdVl"
      },
      "outputs": [],
      "source": [
        "import pandas as pd\n",
        "df = pd.read_csv('./hotel_booking.csv')"
      ]
    },
    {
      "cell_type": "markdown",
      "metadata": {
        "id": "1PFM8BxCx8ML"
      },
      "source": [
        "Q1) Print out a random sample of 10 rows from the dataset"
      ]
    },
    {
      "cell_type": "code",
      "execution_count": 12,
      "metadata": {
        "id": "e0wjSCWKySK_"
      },
      "outputs": [
        {
          "data": {
            "text/html": [
              "<div>\n",
              "<style scoped>\n",
              "    .dataframe tbody tr th:only-of-type {\n",
              "        vertical-align: middle;\n",
              "    }\n",
              "\n",
              "    .dataframe tbody tr th {\n",
              "        vertical-align: top;\n",
              "    }\n",
              "\n",
              "    .dataframe thead th {\n",
              "        text-align: right;\n",
              "    }\n",
              "</style>\n",
              "<table border=\"1\" class=\"dataframe\">\n",
              "  <thead>\n",
              "    <tr style=\"text-align: right;\">\n",
              "      <th></th>\n",
              "      <th>hotel</th>\n",
              "      <th>is_canceled</th>\n",
              "      <th>lead_time</th>\n",
              "      <th>arrival_date_year</th>\n",
              "      <th>arrival_date_month</th>\n",
              "      <th>arrival_date_week_number</th>\n",
              "      <th>arrival_date_day_of_month</th>\n",
              "      <th>stays_in_weekend_nights</th>\n",
              "      <th>stays_in_week_nights</th>\n",
              "      <th>adults</th>\n",
              "      <th>...</th>\n",
              "      <th>customer_type</th>\n",
              "      <th>adr</th>\n",
              "      <th>required_car_parking_spaces</th>\n",
              "      <th>total_of_special_requests</th>\n",
              "      <th>reservation_status</th>\n",
              "      <th>reservation_status_date</th>\n",
              "      <th>name</th>\n",
              "      <th>email</th>\n",
              "      <th>phone-number</th>\n",
              "      <th>credit_card</th>\n",
              "    </tr>\n",
              "  </thead>\n",
              "  <tbody>\n",
              "    <tr>\n",
              "      <th>58140</th>\n",
              "      <td>City Hotel</td>\n",
              "      <td>1</td>\n",
              "      <td>83</td>\n",
              "      <td>2016</td>\n",
              "      <td>October</td>\n",
              "      <td>41</td>\n",
              "      <td>6</td>\n",
              "      <td>1</td>\n",
              "      <td>3</td>\n",
              "      <td>1</td>\n",
              "      <td>...</td>\n",
              "      <td>Transient</td>\n",
              "      <td>132.30</td>\n",
              "      <td>0</td>\n",
              "      <td>0</td>\n",
              "      <td>Canceled</td>\n",
              "      <td>2016-07-20</td>\n",
              "      <td>Robert Harris</td>\n",
              "      <td>Robert.H@gmail.com</td>\n",
              "      <td>989-115-6781</td>\n",
              "      <td>************2526</td>\n",
              "    </tr>\n",
              "    <tr>\n",
              "      <th>32984</th>\n",
              "      <td>Resort Hotel</td>\n",
              "      <td>0</td>\n",
              "      <td>3</td>\n",
              "      <td>2017</td>\n",
              "      <td>February</td>\n",
              "      <td>6</td>\n",
              "      <td>10</td>\n",
              "      <td>0</td>\n",
              "      <td>2</td>\n",
              "      <td>2</td>\n",
              "      <td>...</td>\n",
              "      <td>Transient-Party</td>\n",
              "      <td>122.00</td>\n",
              "      <td>0</td>\n",
              "      <td>1</td>\n",
              "      <td>Check-Out</td>\n",
              "      <td>2017-02-12</td>\n",
              "      <td>Brian Ingram</td>\n",
              "      <td>Brian_I@yahoo.com</td>\n",
              "      <td>405-471-6038</td>\n",
              "      <td>************2859</td>\n",
              "    </tr>\n",
              "    <tr>\n",
              "      <th>47740</th>\n",
              "      <td>City Hotel</td>\n",
              "      <td>1</td>\n",
              "      <td>35</td>\n",
              "      <td>2016</td>\n",
              "      <td>March</td>\n",
              "      <td>10</td>\n",
              "      <td>2</td>\n",
              "      <td>0</td>\n",
              "      <td>2</td>\n",
              "      <td>2</td>\n",
              "      <td>...</td>\n",
              "      <td>Transient</td>\n",
              "      <td>100.10</td>\n",
              "      <td>0</td>\n",
              "      <td>1</td>\n",
              "      <td>Canceled</td>\n",
              "      <td>2016-02-09</td>\n",
              "      <td>Christopher Richardson</td>\n",
              "      <td>ChristopherRichardson28@zoho.com</td>\n",
              "      <td>209-348-8682</td>\n",
              "      <td>************4868</td>\n",
              "    </tr>\n",
              "    <tr>\n",
              "      <th>41371</th>\n",
              "      <td>City Hotel</td>\n",
              "      <td>0</td>\n",
              "      <td>40</td>\n",
              "      <td>2015</td>\n",
              "      <td>August</td>\n",
              "      <td>33</td>\n",
              "      <td>15</td>\n",
              "      <td>2</td>\n",
              "      <td>2</td>\n",
              "      <td>2</td>\n",
              "      <td>...</td>\n",
              "      <td>Transient-Party</td>\n",
              "      <td>62.00</td>\n",
              "      <td>0</td>\n",
              "      <td>0</td>\n",
              "      <td>Check-Out</td>\n",
              "      <td>2015-08-19</td>\n",
              "      <td>Barbara Bauer</td>\n",
              "      <td>Barbara_Bauer82@yandex.com</td>\n",
              "      <td>759-732-6665</td>\n",
              "      <td>************7259</td>\n",
              "    </tr>\n",
              "    <tr>\n",
              "      <th>37932</th>\n",
              "      <td>Resort Hotel</td>\n",
              "      <td>0</td>\n",
              "      <td>47</td>\n",
              "      <td>2017</td>\n",
              "      <td>June</td>\n",
              "      <td>26</td>\n",
              "      <td>25</td>\n",
              "      <td>3</td>\n",
              "      <td>5</td>\n",
              "      <td>2</td>\n",
              "      <td>...</td>\n",
              "      <td>Transient</td>\n",
              "      <td>161.75</td>\n",
              "      <td>0</td>\n",
              "      <td>2</td>\n",
              "      <td>Check-Out</td>\n",
              "      <td>2017-07-03</td>\n",
              "      <td>Ryan Lutz</td>\n",
              "      <td>Ryan.Lutz@att.com</td>\n",
              "      <td>827-725-9149</td>\n",
              "      <td>************4390</td>\n",
              "    </tr>\n",
              "    <tr>\n",
              "      <th>23971</th>\n",
              "      <td>Resort Hotel</td>\n",
              "      <td>0</td>\n",
              "      <td>103</td>\n",
              "      <td>2016</td>\n",
              "      <td>May</td>\n",
              "      <td>19</td>\n",
              "      <td>2</td>\n",
              "      <td>2</td>\n",
              "      <td>5</td>\n",
              "      <td>2</td>\n",
              "      <td>...</td>\n",
              "      <td>Transient</td>\n",
              "      <td>46.75</td>\n",
              "      <td>0</td>\n",
              "      <td>0</td>\n",
              "      <td>Check-Out</td>\n",
              "      <td>2016-05-09</td>\n",
              "      <td>Marissa Lucas</td>\n",
              "      <td>Marissa.L@aol.com</td>\n",
              "      <td>494-603-3793</td>\n",
              "      <td>************9323</td>\n",
              "    </tr>\n",
              "    <tr>\n",
              "      <th>39714</th>\n",
              "      <td>Resort Hotel</td>\n",
              "      <td>0</td>\n",
              "      <td>83</td>\n",
              "      <td>2017</td>\n",
              "      <td>August</td>\n",
              "      <td>34</td>\n",
              "      <td>21</td>\n",
              "      <td>1</td>\n",
              "      <td>4</td>\n",
              "      <td>2</td>\n",
              "      <td>...</td>\n",
              "      <td>Transient</td>\n",
              "      <td>310.00</td>\n",
              "      <td>0</td>\n",
              "      <td>0</td>\n",
              "      <td>Check-Out</td>\n",
              "      <td>2017-08-26</td>\n",
              "      <td>Benjamin Taylor</td>\n",
              "      <td>Benjamin_T@att.com</td>\n",
              "      <td>316-615-7258</td>\n",
              "      <td>************7890</td>\n",
              "    </tr>\n",
              "    <tr>\n",
              "      <th>32633</th>\n",
              "      <td>Resort Hotel</td>\n",
              "      <td>0</td>\n",
              "      <td>5</td>\n",
              "      <td>2017</td>\n",
              "      <td>May</td>\n",
              "      <td>20</td>\n",
              "      <td>15</td>\n",
              "      <td>1</td>\n",
              "      <td>0</td>\n",
              "      <td>1</td>\n",
              "      <td>...</td>\n",
              "      <td>Transient</td>\n",
              "      <td>0.00</td>\n",
              "      <td>1</td>\n",
              "      <td>2</td>\n",
              "      <td>Check-Out</td>\n",
              "      <td>2017-05-16</td>\n",
              "      <td>Erica Palmer</td>\n",
              "      <td>EPalmer@outlook.com</td>\n",
              "      <td>892-999-4109</td>\n",
              "      <td>************4783</td>\n",
              "    </tr>\n",
              "    <tr>\n",
              "      <th>108630</th>\n",
              "      <td>City Hotel</td>\n",
              "      <td>0</td>\n",
              "      <td>50</td>\n",
              "      <td>2017</td>\n",
              "      <td>March</td>\n",
              "      <td>13</td>\n",
              "      <td>29</td>\n",
              "      <td>0</td>\n",
              "      <td>1</td>\n",
              "      <td>2</td>\n",
              "      <td>...</td>\n",
              "      <td>Transient</td>\n",
              "      <td>88.20</td>\n",
              "      <td>0</td>\n",
              "      <td>1</td>\n",
              "      <td>Check-Out</td>\n",
              "      <td>2017-03-30</td>\n",
              "      <td>Teresa Willis</td>\n",
              "      <td>Teresa.W@gmail.com</td>\n",
              "      <td>912-502-3354</td>\n",
              "      <td>************5424</td>\n",
              "    </tr>\n",
              "    <tr>\n",
              "      <th>73309</th>\n",
              "      <td>City Hotel</td>\n",
              "      <td>1</td>\n",
              "      <td>104</td>\n",
              "      <td>2017</td>\n",
              "      <td>August</td>\n",
              "      <td>33</td>\n",
              "      <td>18</td>\n",
              "      <td>1</td>\n",
              "      <td>2</td>\n",
              "      <td>2</td>\n",
              "      <td>...</td>\n",
              "      <td>Transient</td>\n",
              "      <td>125.00</td>\n",
              "      <td>0</td>\n",
              "      <td>1</td>\n",
              "      <td>Canceled</td>\n",
              "      <td>2017-05-06</td>\n",
              "      <td>Veronica Burnett</td>\n",
              "      <td>Veronica_Burnett@xfinity.com</td>\n",
              "      <td>143-378-2289</td>\n",
              "      <td>************9262</td>\n",
              "    </tr>\n",
              "  </tbody>\n",
              "</table>\n",
              "<p>10 rows × 36 columns</p>\n",
              "</div>"
            ],
            "text/plain": [
              "               hotel  is_canceled  lead_time  arrival_date_year  \\\n",
              "58140     City Hotel            1         83               2016   \n",
              "32984   Resort Hotel            0          3               2017   \n",
              "47740     City Hotel            1         35               2016   \n",
              "41371     City Hotel            0         40               2015   \n",
              "37932   Resort Hotel            0         47               2017   \n",
              "23971   Resort Hotel            0        103               2016   \n",
              "39714   Resort Hotel            0         83               2017   \n",
              "32633   Resort Hotel            0          5               2017   \n",
              "108630    City Hotel            0         50               2017   \n",
              "73309     City Hotel            1        104               2017   \n",
              "\n",
              "       arrival_date_month  arrival_date_week_number  \\\n",
              "58140             October                        41   \n",
              "32984            February                         6   \n",
              "47740               March                        10   \n",
              "41371              August                        33   \n",
              "37932                June                        26   \n",
              "23971                 May                        19   \n",
              "39714              August                        34   \n",
              "32633                 May                        20   \n",
              "108630              March                        13   \n",
              "73309              August                        33   \n",
              "\n",
              "        arrival_date_day_of_month  stays_in_weekend_nights  \\\n",
              "58140                           6                        1   \n",
              "32984                          10                        0   \n",
              "47740                           2                        0   \n",
              "41371                          15                        2   \n",
              "37932                          25                        3   \n",
              "23971                           2                        2   \n",
              "39714                          21                        1   \n",
              "32633                          15                        1   \n",
              "108630                         29                        0   \n",
              "73309                          18                        1   \n",
              "\n",
              "        stays_in_week_nights  adults  ...    customer_type     adr  \\\n",
              "58140                      3       1  ...        Transient  132.30   \n",
              "32984                      2       2  ...  Transient-Party  122.00   \n",
              "47740                      2       2  ...        Transient  100.10   \n",
              "41371                      2       2  ...  Transient-Party   62.00   \n",
              "37932                      5       2  ...        Transient  161.75   \n",
              "23971                      5       2  ...        Transient   46.75   \n",
              "39714                      4       2  ...        Transient  310.00   \n",
              "32633                      0       1  ...        Transient    0.00   \n",
              "108630                     1       2  ...        Transient   88.20   \n",
              "73309                      2       2  ...        Transient  125.00   \n",
              "\n",
              "       required_car_parking_spaces total_of_special_requests  \\\n",
              "58140                            0                         0   \n",
              "32984                            0                         1   \n",
              "47740                            0                         1   \n",
              "41371                            0                         0   \n",
              "37932                            0                         2   \n",
              "23971                            0                         0   \n",
              "39714                            0                         0   \n",
              "32633                            1                         2   \n",
              "108630                           0                         1   \n",
              "73309                            0                         1   \n",
              "\n",
              "       reservation_status reservation_status_date                    name  \\\n",
              "58140            Canceled              2016-07-20           Robert Harris   \n",
              "32984           Check-Out              2017-02-12            Brian Ingram   \n",
              "47740            Canceled              2016-02-09  Christopher Richardson   \n",
              "41371           Check-Out              2015-08-19           Barbara Bauer   \n",
              "37932           Check-Out              2017-07-03               Ryan Lutz   \n",
              "23971           Check-Out              2016-05-09           Marissa Lucas   \n",
              "39714           Check-Out              2017-08-26         Benjamin Taylor   \n",
              "32633           Check-Out              2017-05-16            Erica Palmer   \n",
              "108630          Check-Out              2017-03-30           Teresa Willis   \n",
              "73309            Canceled              2017-05-06        Veronica Burnett   \n",
              "\n",
              "                                   email  phone-number       credit_card  \n",
              "58140                 Robert.H@gmail.com  989-115-6781  ************2526  \n",
              "32984                  Brian_I@yahoo.com  405-471-6038  ************2859  \n",
              "47740   ChristopherRichardson28@zoho.com  209-348-8682  ************4868  \n",
              "41371         Barbara_Bauer82@yandex.com  759-732-6665  ************7259  \n",
              "37932                  Ryan.Lutz@att.com  827-725-9149  ************4390  \n",
              "23971                  Marissa.L@aol.com  494-603-3793  ************9323  \n",
              "39714                 Benjamin_T@att.com  316-615-7258  ************7890  \n",
              "32633                EPalmer@outlook.com  892-999-4109  ************4783  \n",
              "108630                Teresa.W@gmail.com  912-502-3354  ************5424  \n",
              "73309       Veronica_Burnett@xfinity.com  143-378-2289  ************9262  \n",
              "\n",
              "[10 rows x 36 columns]"
            ]
          },
          "execution_count": 12,
          "metadata": {},
          "output_type": "execute_result"
        }
      ],
      "source": [
        "df.sample(10)"
      ]
    },
    {
      "cell_type": "markdown",
      "metadata": {
        "id": "x0Kvd7eWw0du"
      },
      "source": [
        "Q2) Display information on the dataset:\n"
      ]
    },
    {
      "cell_type": "code",
      "execution_count": 22,
      "metadata": {
        "id": "Hus4QEqP6POs"
      },
      "outputs": [],
      "source": []
    },
    {
      "cell_type": "markdown",
      "metadata": {
        "id": "XX7CjXbVyFr9"
      },
      "source": [
        "Q3) Display the dataset columns"
      ]
    },
    {
      "cell_type": "code",
      "execution_count": 22,
      "metadata": {
        "id": "_54prKmpw7m9"
      },
      "outputs": [],
      "source": []
    },
    {
      "cell_type": "markdown",
      "metadata": {
        "id": "vHPkrLgsyGRi"
      },
      "source": [
        "Q4) Display statistical info of the the numeric columns in the dataset"
      ]
    },
    {
      "cell_type": "code",
      "execution_count": 22,
      "metadata": {
        "id": "lACeDTZXxAcD"
      },
      "outputs": [],
      "source": []
    },
    {
      "cell_type": "markdown",
      "metadata": {
        "id": "VBc4R4Kj0xeJ"
      },
      "source": [
        "Q5) Count the number of unique hotels in the dataset"
      ]
    },
    {
      "cell_type": "code",
      "execution_count": 22,
      "metadata": {
        "id": "IvYevY-N01p8"
      },
      "outputs": [],
      "source": []
    },
    {
      "cell_type": "markdown",
      "metadata": {
        "id": "FnVZ-Lo601Pq"
      },
      "source": [
        "Q6) Identify the most popular country of origin for guests"
      ]
    },
    {
      "cell_type": "code",
      "execution_count": 22,
      "metadata": {
        "id": "CdhGsv8608LI"
      },
      "outputs": [],
      "source": []
    },
    {
      "cell_type": "markdown",
      "metadata": {
        "id": "bhzenL0Ry6DO"
      },
      "source": [
        "## 2. Data cleaning"
      ]
    },
    {
      "cell_type": "markdown",
      "metadata": {
        "id": "8Km9Qcduy-yr"
      },
      "source": [
        "Q5) Identify missing values in the columns"
      ]
    },
    {
      "cell_type": "code",
      "execution_count": 22,
      "metadata": {
        "id": "34SIFGj9xCnj"
      },
      "outputs": [],
      "source": []
    },
    {
      "cell_type": "markdown",
      "metadata": {
        "id": "220Wunke0i_y"
      },
      "source": [
        "Q6) Calculate the precentage of the missing values in the columns"
      ]
    },
    {
      "cell_type": "code",
      "execution_count": 22,
      "metadata": {
        "id": "5zaDAlXB0jZt"
      },
      "outputs": [],
      "source": []
    },
    {
      "cell_type": "markdown",
      "metadata": {
        "id": "m3Qay0EPzVyk"
      },
      "source": [
        "Q7) Examine the precentages of the missing values in the columns and perform missing value handling as needed"
      ]
    },
    {
      "cell_type": "code",
      "execution_count": 22,
      "metadata": {
        "id": "sn1sIPgX0I5Z"
      },
      "outputs": [],
      "source": []
    },
    {
      "cell_type": "markdown",
      "metadata": {
        "id": "qmOvAj-J1AWD"
      },
      "source": [
        "## 3. Numeric data analysis"
      ]
    },
    {
      "cell_type": "markdown",
      "metadata": {
        "id": "Rj79Zktg1t1A"
      },
      "source": [
        "Q8) Calculate the average lead time for bookings"
      ]
    },
    {
      "cell_type": "code",
      "execution_count": 22,
      "metadata": {
        "id": "aTyJc_nf1D-y"
      },
      "outputs": [],
      "source": []
    },
    {
      "cell_type": "markdown",
      "metadata": {
        "id": "i034mg4z13Uc"
      },
      "source": [
        "Q9) Determine the maximum and minimum values for 'adr' (average daily rate)"
      ]
    },
    {
      "cell_type": "code",
      "execution_count": 22,
      "metadata": {
        "id": "32lqDjU013rt"
      },
      "outputs": [],
      "source": []
    },
    {
      "cell_type": "markdown",
      "metadata": {
        "id": "meQxdleL14JF"
      },
      "source": [
        "Q10) Compute the total number of booking changes"
      ]
    },
    {
      "cell_type": "code",
      "execution_count": 22,
      "metadata": {
        "id": "X50r3PEo14hh"
      },
      "outputs": [],
      "source": []
    },
    {
      "cell_type": "markdown",
      "metadata": {
        "id": "kvXN5iv14uIs"
      },
      "source": [
        "## 4. Feature engineering"
      ]
    },
    {
      "cell_type": "markdown",
      "metadata": {
        "id": "5DHo8XUA4q6K"
      },
      "source": [
        "Q11) Create a new column that represents the total number of guests (adults, children, and babies) for each booking"
      ]
    },
    {
      "cell_type": "code",
      "execution_count": 22,
      "metadata": {
        "id": "DljfRmCh45-3"
      },
      "outputs": [],
      "source": []
    },
    {
      "cell_type": "markdown",
      "metadata": {
        "id": "65ZWbB7-46oV"
      },
      "source": [
        "Q12)  Create a new feature that calculates the total duration of stay for each booking. Show how to add this feature to the dataset"
      ]
    },
    {
      "cell_type": "code",
      "execution_count": 22,
      "metadata": {
        "id": "3zMMNsVd464T"
      },
      "outputs": [],
      "source": []
    },
    {
      "cell_type": "markdown",
      "metadata": {
        "id": "Nm31mX1d47Y-"
      },
      "source": [
        "Q13) Implement one-hot encoding for the 'market_segment' and 'distribution_channel' categorical columns"
      ]
    },
    {
      "cell_type": "code",
      "execution_count": 22,
      "metadata": {
        "id": "vE0uBSxY47r2"
      },
      "outputs": [],
      "source": []
    },
    {
      "cell_type": "markdown",
      "metadata": {
        "id": "TYkmk3Bv6XnM"
      },
      "source": [
        "## 5. Model building\n",
        "The goal is to build a Linear Regression model to predict the ADR for future bookings."
      ]
    },
    {
      "cell_type": "markdown",
      "metadata": {
        "id": "4p021Ifv6mby"
      },
      "source": [
        "Q14) Create a feature matrix (X) and a target vector (y) for training and testing."
      ]
    },
    {
      "cell_type": "code",
      "execution_count": 22,
      "metadata": {
        "id": "SLfyG6Un9m5U"
      },
      "outputs": [],
      "source": []
    },
    {
      "cell_type": "markdown",
      "metadata": {
        "id": "nGJgzL7Q_FQ1"
      },
      "source": [
        "Q15) Import the Linear Regression model from a machine learning library such as Scikit-Learn"
      ]
    },
    {
      "cell_type": "code",
      "execution_count": 22,
      "metadata": {
        "id": "ebLed8bb6xGl"
      },
      "outputs": [],
      "source": []
    },
    {
      "cell_type": "markdown",
      "metadata": {
        "id": "pswfcYus_VwS"
      },
      "source": [
        "Q16) Instantiate the Linear Regression model"
      ]
    },
    {
      "cell_type": "code",
      "execution_count": 22,
      "metadata": {
        "id": "vVqjjasD_WWh"
      },
      "outputs": [],
      "source": []
    },
    {
      "cell_type": "markdown",
      "metadata": {
        "id": "gRRwAPf0_bI3"
      },
      "source": [
        "Q17) Train the model using the training data by calling the fit method"
      ]
    },
    {
      "cell_type": "code",
      "execution_count": 22,
      "metadata": {
        "id": "vHgPGxpN_atP"
      },
      "outputs": [],
      "source": []
    },
    {
      "cell_type": "markdown",
      "metadata": {
        "id": "Lt0F1aIV_d39"
      },
      "source": [
        "Q18) Make predictions on the test dataset"
      ]
    },
    {
      "cell_type": "code",
      "execution_count": 22,
      "metadata": {
        "id": "dREyBxnw_eJ2"
      },
      "outputs": [],
      "source": []
    },
    {
      "cell_type": "markdown",
      "metadata": {
        "id": "FQppiu6L_i7c"
      },
      "source": [
        "### 6. Model evaluation"
      ]
    },
    {
      "cell_type": "markdown",
      "metadata": {
        "id": "UrJn7Otq_etj"
      },
      "source": [
        "Q19) Evaluate the model's performance using regression metrics such as Mean Absolute Error (MAE), Mean Squared Error (MSE), and Root Mean Squared Error (RMSE)"
      ]
    },
    {
      "cell_type": "code",
      "execution_count": 22,
      "metadata": {
        "id": "v7goVZTy_fB5"
      },
      "outputs": [],
      "source": []
    },
    {
      "cell_type": "markdown",
      "metadata": {
        "id": "J9EITzXJ_20T"
      },
      "source": [
        "Q20) Experiment with different feature engineering techniques or consider using regularization methods (e.g., Ridge or Lasso regression) to improve model performance."
      ]
    },
    {
      "cell_type": "code",
      "execution_count": 22,
      "metadata": {
        "id": "gsTJtVlX_3N5"
      },
      "outputs": [],
      "source": []
    },
    {
      "cell_type": "markdown",
      "metadata": {},
      "source": [
        "# F. Additional: \n",
        "\n",
        "- Build a pipeline to automate the data preprocessing and model building steps\n",
        "- Experiment with different machine learning models (e.g., Random Forest, XGBoost, etc.) to improve model performance\n",
        "- Experiment with different hyperparameter tuning strategies (e.g., GridSearchCV, RandomizedSearchCV, etc.) to improve model performance\n",
        "- Experiment with different feature selection techniques (e.g., SelectKBest, Recursive Feature Elimination, etc.) to improve model performance\n",
        "- Experiment with different feature scaling techniques (e.g., StandardScaler, MinMaxScaler, etc.) to improve model performance\n",
        "- Visualize the relationship between the target values and the features\n",
        "- Visualize the predictions of the top best models\n",
        "- Visualize the residuals of the top best models\n",
        "- Visualize the coefficients of the top best models\n"
      ]
    },
    {
      "cell_type": "code",
      "execution_count": null,
      "metadata": {},
      "outputs": [],
      "source": []
    }
  ],
  "metadata": {
    "colab": {
      "collapsed_sections": [
        "MR5zkwPvwyjS",
        "bhzenL0Ry6DO",
        "qmOvAj-J1AWD",
        "kvXN5iv14uIs"
      ],
      "provenance": []
    },
    "kernelspec": {
      "display_name": "Python 3 (ipykernel)",
      "language": "python",
      "name": "python3"
    },
    "language_info": {
      "codemirror_mode": {
        "name": "ipython",
        "version": 3
      },
      "file_extension": ".py",
      "mimetype": "text/x-python",
      "name": "python",
      "nbconvert_exporter": "python",
      "pygments_lexer": "ipython3",
      "version": "3.11.4"
    }
  },
  "nbformat": 4,
  "nbformat_minor": 0
}
